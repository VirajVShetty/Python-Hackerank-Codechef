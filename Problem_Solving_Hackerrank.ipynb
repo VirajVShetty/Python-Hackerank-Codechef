{
 "cells": [
  {
   "cell_type": "markdown",
   "metadata": {},
   "source": [
    "# Problem Solving Hackerrank by Viraj Shetty"
   ]
  },
  {
   "cell_type": "markdown",
   "metadata": {},
   "source": [
    "## Angry Professor"
   ]
  },
  {
   "cell_type": "code",
   "execution_count": null,
   "metadata": {},
   "outputs": [],
   "source": [
    "m = int(input())\n",
    "for i in range(m):\n",
    "    n,k = map(int,input().split())\n",
    "    a = input().split()\n",
    "    x = map(int,a)\n",
    "    count = 0\n",
    "    for i in x:\n",
    "        if i <= 0:\n",
    "            count+=1\n",
    "    if count<k:\n",
    "        print(\"YES\")\n",
    "    else:\n",
    "        print(\"NO\")"
   ]
  },
  {
   "cell_type": "markdown",
   "metadata": {},
   "source": [
    "## Time Conversion"
   ]
  },
  {
   "cell_type": "code",
   "execution_count": null,
   "metadata": {},
   "outputs": [],
   "source": [
    "time = input().strip()\n",
    "h, m, s = map(int, time[:-2].split(':'))\n",
    "p = time[-2:]\n",
    "h = h % 12 + (p.upper() == 'PM') * 12\n",
    "print(('%02d:%02d:%02d') % (h, m, s))"
   ]
  },
  {
   "cell_type": "markdown",
   "metadata": {},
   "source": [
    "## Big Sorting"
   ]
  },
  {
   "cell_type": "code",
   "execution_count": null,
   "metadata": {},
   "outputs": [],
   "source": [
    "n = int(input().strip())\n",
    "unsorted = []\n",
    "lengths = []\n",
    "\n",
    "for k in range(n):\n",
    "    number = str(input().strip())\n",
    "    unsorted.append(number)\n",
    "    lengths.append(len(number))\n",
    "\n",
    "biglist = zip(lengths,unsorted)\n",
    "\n",
    "for i in sorted(biglist):\n",
    "    print(i[1])"
   ]
  },
  {
   "cell_type": "markdown",
   "metadata": {},
   "source": [
    "## Grading Students"
   ]
  },
  {
   "cell_type": "code",
   "execution_count": null,
   "metadata": {},
   "outputs": [],
   "source": [
    "n = int(input())\n",
    "marks = []\n",
    "for i in range(n):\n",
    "    x = int(input())\n",
    "    marks.append(x)\n",
    "for mark in marks:\n",
    "    if (mark%5==0 or mark<38):\n",
    "        print(mark)\n",
    "    elif (mark+1)%5==0:\n",
    "        print(mark+1)\n",
    "    elif (mark+2)%5==0:\n",
    "        print(mark+2)\n",
    "    else:\n",
    "        print(mark)"
   ]
  },
  {
   "cell_type": "markdown",
   "metadata": {},
   "source": [
    "## Diagnol Difference"
   ]
  },
  {
   "cell_type": "code",
   "execution_count": null,
   "metadata": {},
   "outputs": [],
   "source": [
    "n = int(input())\n",
    "diagonal_l_r = []\n",
    "diagonal_r_l = []\n",
    "for i in range(n):\n",
    "    x = list(map(int,input().split()))\n",
    "    diagonal_l_r.append(x[i])\n",
    "    diagonal_r_l.append(x[n-i-1])\n",
    "x = sum(diagonal_l_r)\n",
    "y = sum(diagonal_r_l)\n",
    "print(abs(x-y))"
   ]
  },
  {
   "cell_type": "markdown",
   "metadata": {},
   "source": [
    "## Mini-Max"
   ]
  },
  {
   "cell_type": "code",
   "execution_count": null,
   "metadata": {},
   "outputs": [],
   "source": [
    "int_5 = list(map(int,input().split()))\n",
    "x = sum(int_5)\n",
    "print((x-(max(int_5))),(x-(min(int_5))))"
   ]
  },
  {
   "cell_type": "markdown",
   "metadata": {},
   "source": [
    "## Hurdle Race"
   ]
  },
  {
   "cell_type": "code",
   "execution_count": null,
   "metadata": {},
   "outputs": [],
   "source": [
    "n_of_elem,nat_height = list(map(int,input().split()))\n",
    "x = list(map(int,input().split()))\n",
    "if max(x)<nat_height:\n",
    "    print(0)\n",
    "else:\n",
    "    print(max(x)-nat_height)"
   ]
  },
  {
   "cell_type": "markdown",
   "metadata": {},
   "source": [
    "## Staircase"
   ]
  },
  {
   "cell_type": "code",
   "execution_count": null,
   "metadata": {},
   "outputs": [],
   "source": [
    "import math\n",
    "import os\n",
    "import random\n",
    "import re\n",
    "import sys\n",
    "def staircase(n):\n",
    "    for i in range(1,n+1):\n",
    "        space = \" \"\n",
    "        pattern = \"#\"\n",
    "        print(space*(n-i)+(pattern*i))\n",
    "if __name__ == '__main__':\n",
    "    n = int(input())\n",
    "    staircase(n)"
   ]
  },
  {
   "cell_type": "markdown",
   "metadata": {},
   "source": [
    "## Birthday Cake Candles"
   ]
  },
  {
   "cell_type": "code",
   "execution_count": null,
   "metadata": {},
   "outputs": [],
   "source": [
    "import math\n",
    "import os\n",
    "import random\n",
    "import re\n",
    "import sys\n",
    "def birthdayCakeCandles(ar):\n",
    "    ar.sort(reverse=True)\n",
    "    rem = ar[0]\n",
    "    return ar.count(rem)\n",
    "if __name__ == '__main__':\n",
    "    fptr = open(os.environ['OUTPUT_PATH'], 'w')\n",
    "    ar_count = int(input())\n",
    "    ar = list(map(int, input().rstrip().split()))\n",
    "    result = birthdayCakeCandles(ar)\n",
    "    fptr.write(str(result) + '\\n')\n",
    "    fptr.close()"
   ]
  },
  {
   "cell_type": "markdown",
   "metadata": {},
   "source": [
    "## PDF Viewer  \n",
    "### Use ord() function to find the ascii value"
   ]
  },
  {
   "cell_type": "code",
   "execution_count": null,
   "metadata": {},
   "outputs": [],
   "source": [
    "letter_weights = list(map(int,input().split()))\n",
    "string_input = list(input())\n",
    "value = []\n",
    "for letter in string_input:\n",
    "    x = ord(letter) - 97\n",
    "    value.append(int(x))\n",
    "value.sort(reverse=True)\n",
    "new_value = []\n",
    "for i in value:\n",
    "    x = letter_weights[i]\n",
    "    new_value.append(x)\n",
    "new_value.sort(reverse=True)\n",
    "print(new_value[0]*len(string_input))"
   ]
  },
  {
   "cell_type": "markdown",
   "metadata": {},
   "source": [
    "## Viral Advertising"
   ]
  },
  {
   "cell_type": "code",
   "execution_count": null,
   "metadata": {},
   "outputs": [],
   "source": [
    "n = int(input())\n",
    "initial = 5\n",
    "cumulative = 0\n",
    "for i in range(n):\n",
    "    x = int(initial/2)\n",
    "    cumulative += x\n",
    "    initial = x * 3\n",
    "print(cumulative)"
   ]
  },
  {
   "cell_type": "markdown",
   "metadata": {},
   "source": [
    "## Find Digits"
   ]
  },
  {
   "cell_type": "code",
   "execution_count": null,
   "metadata": {},
   "outputs": [],
   "source": [
    "n = int(input())\n",
    "values = []\n",
    "for i in range(n):\n",
    "    x = int(input())\n",
    "    values.append(x)\n",
    "for i in values:\n",
    "    count=0\n",
    "    x = [int(d) for d in str(i)]\n",
    "    for j in x:\n",
    "        try:\n",
    "            if i%j==0:\n",
    "                count+=1\n",
    "        except:\n",
    "            continue\n",
    "    print(count)"
   ]
  }
 ],
 "metadata": {
  "kernelspec": {
   "display_name": "Python 3",
   "language": "python",
   "name": "python3"
  },
  "language_info": {
   "codemirror_mode": {
    "name": "ipython",
    "version": 3
   },
   "file_extension": ".py",
   "mimetype": "text/x-python",
   "name": "python",
   "nbconvert_exporter": "python",
   "pygments_lexer": "ipython3",
   "version": "3.7.3"
  }
 },
 "nbformat": 4,
 "nbformat_minor": 2
}
