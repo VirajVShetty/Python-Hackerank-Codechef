{
 "cells": [
  {
   "cell_type": "markdown",
   "metadata": {},
   "source": [
    "# Python Solution for Hackerrank By Viraj Shetty"
   ]
  },
  {
   "cell_type": "markdown",
   "metadata": {},
   "source": [
    "## Hello World"
   ]
  },
  {
   "cell_type": "code",
   "execution_count": null,
   "metadata": {},
   "outputs": [],
   "source": [
    "print(\"Hello, World!\")"
   ]
  },
  {
   "cell_type": "markdown",
   "metadata": {},
   "source": [
    "## Python If-Else"
   ]
  },
  {
   "cell_type": "code",
   "execution_count": null,
   "metadata": {},
   "outputs": [],
   "source": [
    "if __name__ == '__main__':\n",
    "    n = int(input().strip())\n",
    "    if(n%2==1):\n",
    "        print(\"Weird\")\n",
    "    if(n%2==0):\n",
    "        if (n in range(2,5)):\n",
    "            print(\"Not Weird\")\n",
    "        if (n in range(6,21)):\n",
    "            print(\"Weird\")\n",
    "        if (n>20):\n",
    "            print(\"Not Weird\")"
   ]
  },
  {
   "cell_type": "markdown",
   "metadata": {},
   "source": [
    "##  Print Function"
   ]
  },
  {
   "cell_type": "code",
   "execution_count": null,
   "metadata": {},
   "outputs": [],
   "source": [
    "if __name__ == '__main__':\n",
    "    n = int(input())se\n",
    "    x = \"\"\n",
    "    for i in range (1,n+1):\n",
    "        x += str(i)\n",
    "    print(x)"
   ]
  },
  {
   "cell_type": "markdown",
   "metadata": {},
   "source": [
    "## Leap Year Function"
   ]
  },
  {
   "cell_type": "code",
   "execution_count": null,
   "metadata": {},
   "outputs": [],
   "source": [
    "def is_leap(year):\n",
    "    leap = False\n",
    "    if year % 4 == 0 and year % 100 != 0:\n",
    "        leap = True\n",
    "    elif year % 400 ==0:\n",
    "        leap = True\n",
    "    elif year % 100 == 0:\n",
    "        leap = False\n",
    "    else:\n",
    "        leap = False\n",
    "    return leap\n",
    "year = int(input())\n",
    "print(is_leap(year))"
   ]
  },
  {
   "cell_type": "markdown",
   "metadata": {},
   "source": [
    "## String Validators"
   ]
  },
  {
   "cell_type": "code",
   "execution_count": null,
   "metadata": {},
   "outputs": [],
   "source": [
    "if __name__ == '__main__':\n",
    "    s = input()\n",
    "    an = a = d = l = u = 0\n",
    "    for c in s:\n",
    "        if(c.isalnum() == True):\n",
    "            an += 1\n",
    "        if(c.isalpha() == True):\n",
    "            a += 1\n",
    "        if(c.isdigit() == True):\n",
    "            d += 1\n",
    "        if(c.islower() == True):\n",
    "            l += 1\n",
    "        if(c.isupper() == True):\n",
    "            u += 1\n",
    "    if(an !=0):\n",
    "        print(\"True\")\n",
    "    else:\n",
    "        print(\"False\")\n",
    "    if(a !=0):\n",
    "        print(\"True\")\n",
    "    else:\n",
    "        print(\"False\")\n",
    "    if(d !=0):\n",
    "        print(\"True\")\n",
    "    else:\n",
    "        print(\"False\")\n",
    "    if(l !=0):\n",
    "        print(\"True\")\n",
    "    else:\n",
    "        print(\"False\")\n",
    "    if(u !=0):\n",
    "        print(\"True\")\n",
    "    else:\n",
    "        print(\"False\")"
   ]
  },
  {
   "cell_type": "markdown",
   "metadata": {},
   "source": [
    "## Runner Up"
   ]
  },
  {
   "cell_type": "code",
   "execution_count": null,
   "metadata": {},
   "outputs": [],
   "source": [
    "if __name__ == '__main__':\n",
    "    n = int(input())\n",
    "    arr = map(int, input().split())\n",
    "    def dup(dupl):\n",
    "        fl = []\n",
    "        for num in dupl:\n",
    "            if num not in fl:\n",
    "                fl.append(num)\n",
    "        return fl\n",
    "    arr1 = dup(arr)\n",
    "    arr1.sort()\n",
    "    print(arr1[-2])"
   ]
  },
  {
   "cell_type": "markdown",
   "metadata": {},
   "source": [
    "## What’s your Name"
   ]
  },
  {
   "cell_type": "code",
   "execution_count": null,
   "metadata": {},
   "outputs": [],
   "source": [
    "def print_full_name(a, b):\n",
    "    print(\"Hello \"+a+\" \"+b+\"! You just delved into python.\" )\n",
    "if __name__ == '__main__':\n",
    "    first_name = input()\n",
    "    last_name = input()\n",
    "    print_full_name(first_name, last_name)"
   ]
  },
  {
   "cell_type": "markdown",
   "metadata": {},
   "source": [
    "## String Split and Join"
   ]
  },
  {
   "cell_type": "code",
   "execution_count": null,
   "metadata": {},
   "outputs": [],
   "source": [
    "def split_and_join(line):\n",
    "    line = line.split(\" \")\n",
    "    line = \"-\".join(line)\n",
    "    return line\n",
    "if __name__ == '__main__':\n",
    "    line = raw_input()\n",
    "    result = split_and_join(line)\n",
    "    print result"
   ]
  },
  {
   "cell_type": "markdown",
   "metadata": {},
   "source": [
    "## Project Euler #173"
   ]
  },
  {
   "cell_type": "code",
   "execution_count": null,
   "metadata": {},
   "outputs": [],
   "source": [
    "import math\n",
    "count = 0\n",
    "n = int(input())\n",
    "for i in range(2,int(math.sqrt(n)),2):\n",
    "    b = int(((n/i) - i)/2)\n",
    "    if b > 0:\n",
    "        count+=b\n",
    "print(count)"
   ]
  },
  {
   "cell_type": "markdown",
   "metadata": {},
   "source": [
    "## List Comprehension"
   ]
  },
  {
   "cell_type": "code",
   "execution_count": null,
   "metadata": {},
   "outputs": [],
   "source": [
    "x, y, z, n = (int(input()) for _ in range(4))\n",
    "print ([[a,b,c] for a in range(0,x+1) for b in range(0,y+1) for c in range(0,z+1) if a + b + c != n ])"
   ]
  },
  {
   "cell_type": "markdown",
   "metadata": {},
   "source": [
    "## Lists"
   ]
  },
  {
   "cell_type": "code",
   "execution_count": null,
   "metadata": {},
   "outputs": [],
   "source": [
    "n_of_commands = int(input())\n",
    "list_of_commands = []\n",
    "for command in range(n_of_commands):\n",
    "    x = input()\n",
    "    list_of_commands.append(x)\n",
    "list_elements = []\n",
    "for command in list_of_commands:\n",
    "    if command == \"print\":\n",
    "        print(list_elements)\n",
    "    elif command[:3]==\"rem\":\n",
    "        x = command.split()\n",
    "        remove_elem = int(x[1])\n",
    "        list_elements.remove(remove_elem)\n",
    "    elif command[:3]==\"rev\":\n",
    "        list_elements.reverse()\n",
    "    elif command == \"pop\":\n",
    "        list_elements.pop()\n",
    "    elif command[:3]==\"app\":\n",
    "        x = command.split()\n",
    "        append_elem = int(x[1])\n",
    "        list_elements.append(append_elem)\n",
    "    elif command == \"sort\":\n",
    "        list_elements.sort()\n",
    "    elif command[:3]==\"ins\":\n",
    "        x = command.split()\n",
    "        index = int(x[1])\n",
    "        insert_elem = int(x[2])\n",
    "        list_elements.insert(index,insert_elem)\n",
    "    else:\n",
    "        Break"
   ]
  },
  {
   "cell_type": "markdown",
   "metadata": {},
   "source": [
    "## Solve Me First!"
   ]
  },
  {
   "cell_type": "code",
   "execution_count": null,
   "metadata": {},
   "outputs": [],
   "source": [
    "def solveMeFirst(a,b):\n",
    "           m = a+b\n",
    "           return m\n",
    "num1 = int(input())\n",
    "num2 = int(input())\n",
    "sum = solveMeFirst(num1,num2)\n",
    "print(sum)"
   ]
  },
  {
   "cell_type": "markdown",
   "metadata": {},
   "source": [
    "## Simple Array Sum"
   ]
  },
  {
   "cell_type": "code",
   "execution_count": null,
   "metadata": {},
   "outputs": [],
   "source": [
    "import os\n",
    "import sys\n",
    "def simpleArraySum(ar):\n",
    "           Sum = sum(ar)\n",
    "           return Sum\n",
    "if __name__ == '__main__':\n",
    "           fptr = open(os.environ['OUTPUT_PATH'], 'w')\n",
    "           ar_count = int(input())\n",
    "ar = list(map(int, input().rstrip().split()))\n",
    "result = simpleArraySum(ar)\n",
    "fptr.write(str(result) + '\\n')\n",
    "           fptr.close()"
   ]
  },
  {
   "cell_type": "markdown",
   "metadata": {},
   "source": [
    "## Compare The Triplets"
   ]
  },
  {
   "cell_type": "code",
   "execution_count": null,
   "metadata": {},
   "outputs": [],
   "source": [
    "import math\n",
    "import os\n",
    "import random\n",
    "import re\n",
    "import sys\n",
    "def compareTriplets(a, b):\n",
    "    counta = 0\n",
    "    countb = 0\n",
    "    for i in range (0,3):\n",
    "        if(a[i]>b[i]):\n",
    "            counta += 1\n",
    "        if(a[i]<b[i]):\n",
    "            countb += 1\n",
    "    return counta,countb\n",
    "\n",
    "if __name__ == '__main__':\n",
    "    fptr = open(os.environ['OUTPUT_PATH'], 'w')\n",
    "    a = list(map(int, input().rstrip().split()))\n",
    "    b = list(map(int, input().rstrip().split()))\n",
    "    result = compareTriplets(a, b)\n",
    "    fptr.write(' '.join(map(str, result)))\n",
    "    fptr.write('\\n')\n",
    "    fptr.close()"
   ]
  },
  {
   "cell_type": "markdown",
   "metadata": {},
   "source": [
    "## A Very Big Sum"
   ]
  },
  {
   "cell_type": "code",
   "execution_count": null,
   "metadata": {},
   "outputs": [],
   "source": [
    "import math\n",
    "import os\n",
    "import random\n",
    "import re\n",
    "import sys\n",
    "#function is same since python deals with \n",
    "def aVeryBigSum(ar):\n",
    "    Sum = sum(ar)\n",
    "    return Sum\n",
    " \n",
    "if __name__ == '__main__':\n",
    "    fptr = open(os.environ['OUTPUT_PATH'], 'w')\n",
    "    ar_count = int(input())\n",
    "    ar = list(map(int, input().rstrip().split()))\n",
    "    result = aVeryBigSum(ar)\n",
    "    fptr.write(str(result) + '\\n')\n",
    "    fptr.close()"
   ]
  },
  {
   "cell_type": "markdown",
   "metadata": {},
   "source": [
    "## Find the Point (Maths Based Problems)"
   ]
  },
  {
   "cell_type": "code",
   "execution_count": null,
   "metadata": {},
   "outputs": [],
   "source": [
    "import os\n",
    "def findPoint(px, py, qx, qy):\n",
    "    rx = (qx-px) + qx\n",
    "    ry = (qy-py) + qy\n",
    "    return (rx,ry)\n",
    "if __name__ == '__main__':\n",
    "    fptr = open(os.environ['OUTPUT_PATH'], 'w')\n",
    "    n = int(input())\n",
    "    for n_itr in range(n):\n",
    "        pxPyQxQy = input().split()\n",
    "        px = int(pxPyQxQy[0])\n",
    "        py = int(pxPyQxQy[1])\n",
    "        qx = int(pxPyQxQy[2])\n",
    "        qy = int(pxPyQxQy[3])\n",
    "        result = findPoint(px, py, qx, qy)\n",
    "    fptr.write(' '.join(map(str, result)))\n",
    "    fptr.write('\\n')\n",
    "    fptr.close()"
   ]
  },
  {
   "cell_type": "markdown",
   "metadata": {},
   "source": [
    "## Power of A to B and mod C"
   ]
  },
  {
   "cell_type": "code",
   "execution_count": null,
   "metadata": {},
   "outputs": [],
   "source": [
    "if __name__ == '__main__':\n",
    "    import math as ms\n",
    "    c = []\n",
    "    while True:\n",
    "        try:\n",
    "            line = input()\n",
    "        except EOFError:\n",
    "            break\n",
    "        c.append(line)\n",
    "    a = int(c[0])\n",
    "    b = int(c[1])\n",
    "    m = int(c[2])\n",
    "    x = ms.pow(a,b)\n",
    "    c = (x%m)\n",
    "    print(int(x))\n",
    "    print(int(c))"
   ]
  },
  {
   "cell_type": "markdown",
   "metadata": {},
   "source": [
    "## Map and Lambda"
   ]
  },
  {
   "cell_type": "code",
   "execution_count": null,
   "metadata": {},
   "outputs": [],
   "source": [
    "cube = lambda x: x**3\n",
    "a = [] \n",
    "def fibonacci(n):\n",
    "    first = 0\n",
    "    second = 1\n",
    "    for i in range(n):\n",
    "        a.append(first)\n",
    "        t = first + second\n",
    "        first = second\n",
    "        second = t\n",
    "    return a\n",
    "if __name__ == '__main__':\n",
    "    n = int(input())\n",
    "    print(list(map(cube, fibonacci(n))))"
   ]
  },
  {
   "cell_type": "markdown",
   "metadata": {},
   "source": [
    "## Company Logo"
   ]
  },
  {
   "cell_type": "code",
   "execution_count": null,
   "metadata": {},
   "outputs": [],
   "source": [
    "from collections import Counter\n",
    " \n",
    "for letter, counts in sorted(Counter(raw_input()).most_common(),key = lambda x:(-x[1],x[0]))[:3]:\n",
    "    print letter, counts"
   ]
  },
  {
   "cell_type": "markdown",
   "metadata": {},
   "source": [
    "## Merge the Tools!"
   ]
  },
  {
   "cell_type": "code",
   "execution_count": null,
   "metadata": {},
   "outputs": [],
   "source": [
    "def merge_the_tools(string,k):\n",
    "    num_subsegments = int(len(string)/k)\n",
    "    for index in range(num_subsegments):\n",
    "        t = string[index * k : (index + 1) * k]\n",
    "        u = \"\"\n",
    "        for c in t:\n",
    "            if c not in u:\n",
    "                u += c\n",
    "        print(u)\n",
    "if __name__ == '__main__':\n",
    "    string, k = input(), int(input())\n",
    "    merge_the_tools(string, k)"
   ]
  },
  {
   "cell_type": "markdown",
   "metadata": {},
   "source": [
    "## Check SuperScript"
   ]
  },
  {
   "cell_type": "code",
   "execution_count": null,
   "metadata": {},
   "outputs": [],
   "source": [
    "main_set = set(map(int,input().split()))\n",
    "n = int(input())\n",
    "output = []\n",
    "for i in range(n):\n",
    "    x = set(map(int,input().split()))\n",
    "    if main_set.issuperset(x):\n",
    "        output.append(True)\n",
    "    else:\n",
    "        output.append(False)\n",
    "print(all(output))"
   ]
  },
  {
   "cell_type": "markdown",
   "metadata": {},
   "source": [
    "## Check Subset"
   ]
  },
  {
   "cell_type": "code",
   "execution_count": null,
   "metadata": {},
   "outputs": [],
   "source": [
    "def common (A,B):\n",
    "    a_set = set(A)\n",
    "    b_set = set(B)\n",
    "    if (a_set & b_set):\n",
    "        answer.append(\"True\")\n",
    "    else:\n",
    "        answer.append(\"False\")\n",
    "n = int(input())\n",
    "answer = []\n",
    "for i in range(0,n):\n",
    "    alen = int(input())\n",
    "    A = list(map(int,input().split()))\n",
    "    blen = int(input())\n",
    "    B = list(map(int,input().split()))\n",
    "    common(A,B)\n",
    "for i in answer:\n",
    "    print(i)"
   ]
  },
  {
   "cell_type": "markdown",
   "metadata": {},
   "source": [
    "## Formated Sorting ortingS"
   ]
  },
  {
   "cell_type": "code",
   "execution_count": null,
   "metadata": {},
   "outputs": [],
   "source": [
    "l = []\n",
    "u = []\n",
    "o = []\n",
    "e = []\n",
    " \n",
    "s = input()\n",
    "all_list = list(s)\n",
    "for i in all_list:\n",
    "    if i.islower():\n",
    "        l.append(i)\n",
    "    if i.isupper():\n",
    "        u.append(i)\n",
    "    if i.isnumeric():\n",
    "        if (int(i)%2==0):\n",
    "            e.append(i)\n",
    "        else:\n",
    "            o.append(i)\n",
    " \n",
    "lower = sorted(l)\n",
    "upper = sorted(u)\n",
    "odd = sorted(o)\n",
    "even = sorted(e)\n",
    " \n",
    "tempr = lower+upper\n",
    "tempr1 = tempr + odd\n",
    "last = tempr1 + even\n",
    "s = \"\".join(last)\n",
    "print(s)"
   ]
  },
  {
   "cell_type": "markdown",
   "metadata": {},
   "source": [
    "## Exceptions"
   ]
  },
  {
   "cell_type": "code",
   "execution_count": null,
   "metadata": {},
   "outputs": [],
   "source": [
    "import re\n",
    "n = int(input())\n",
    "for i in range(n):\n",
    "    x = input()\n",
    "    try:\n",
    "        if re.compile(x):\n",
    "            value = True\n",
    "    except:\n",
    "            value = False\n",
    "    print(value)"
   ]
  },
  {
   "cell_type": "markdown",
   "metadata": {},
   "source": [
    "## Iterables and Iterators"
   ]
  },
  {
   "cell_type": "code",
   "execution_count": null,
   "metadata": {},
   "outputs": [],
   "source": [
    "from itertools import combinations \n",
    " \n",
    "N = int(input())\n",
    "S = raw_input().split(' ')\n",
    "K = int(input())\n",
    " \n",
    "num = 0\n",
    "den = 0\n",
    " \n",
    "for c in combinations(S,K):\n",
    "    den+=1\n",
    "    num+='a' in c\n",
    "print float(num)/den"
   ]
  },
  {
   "cell_type": "markdown",
   "metadata": {},
   "source": [
    "## Day of Any MM/DD/YYYY"
   ]
  },
  {
   "cell_type": "code",
   "execution_count": null,
   "metadata": {},
   "outputs": [],
   "source": [
    "import calendar as c\n",
    "d = list(map(int,input().split()))\n",
    "ans = c.weekday(d[2],d[0],d[1])\n",
    "if (ans == 0):\n",
    "    print(\"MONDAY\")\n",
    "elif (ans == 1):\n",
    "    print(\"TUESDAY\")\n",
    "elif (ans == 2):\n",
    "    print(\"WEDNESDAY\")\n",
    "elif (ans == 3):\n",
    "    print(\"THURSDAY\")\n",
    "elif (ans == 4):\n",
    "    print(\"FRIDAY\")\n",
    "elif (ans == 5)\n",
    "    print(\"SATURDAY\")\n",
    "else:\n",
    "    print(\"SUNDAY\")"
   ]
  },
  {
   "cell_type": "markdown",
   "metadata": {},
   "source": [
    "## No idea!"
   ]
  },
  {
   "cell_type": "code",
   "execution_count": null,
   "metadata": {},
   "outputs": [],
   "source": [
    "main_set = set(map(int,input().split()))\n",
    "n = int(input())\n",
    "output = []\n",
    "for i in range(n):\n",
    "    x = set(map(int,input().split()))\n",
    "    if main_set.issuperset(x):\n",
    "        output.append(True)\n",
    "    else:\n",
    "        output.append(False)\n",
    "print(all(output))"
   ]
  },
  {
   "cell_type": "markdown",
   "metadata": {},
   "source": [
    "## Collections.Counter()"
   ]
  },
  {
   "cell_type": "code",
   "execution_count": null,
   "metadata": {},
   "outputs": [],
   "source": [
    "n = int(input())\n",
    "arr = list(map(int, input().split()))\n",
    "l = int(input())\n",
    "x=0\n",
    "for i in range(l):\n",
    "    size,price = map(int,input().split())\n",
    "    if (size in arr):\n",
    "        x += price\n",
    "        arr.remove(size)\n",
    "print(x)"
   ]
  },
  {
   "cell_type": "markdown",
   "metadata": {},
   "source": [
    "## sWAP cASE"
   ]
  },
  {
   "cell_type": "code",
   "execution_count": null,
   "metadata": {},
   "outputs": [],
   "source": [
    "def swap_case(s):\n",
    "    for i in s:\n",
    "        if (i.islower()):\n",
    "            a.append(i.upper())\n",
    "        elif(i.isupper()):\n",
    "            a.append(i.lower())\n",
    "        else:\n",
    "            a.append(i)\n",
    "    b = ''.join(a)\n",
    "    return b\n",
    "a = []\n",
    "if __name__ == '__main__':\n",
    "    s = input()\n",
    "    result = swap_case(s)\n",
    "    print(result)"
   ]
  },
  {
   "cell_type": "markdown",
   "metadata": {},
   "source": [
    "## Set discard and pop"
   ]
  },
  {
   "cell_type": "code",
   "execution_count": null,
   "metadata": {},
   "outputs": [],
   "source": [
    "n = int(input())\n",
    "list_of_int = list(map(int,input().split()))\n",
    "n_of_commands = int(input())\n",
    "list_of_commands = []\n",
    "for command in range(n_of_commands):\n",
    "    x = input()\n",
    "    list_of_commands.append(x)\n",
    "set1 = set(list_of_int)\n",
    "for command in list_of_commands:\n",
    "    if command == \"pop\":\n",
    "        set1.pop()\n",
    "    elif command.startswith('d'):\n",
    "        discard_num = int(command[-1])\n",
    "        set1.discard(discard_num)\n",
    "    else:\n",
    "        remove_num = int(command[-1])\n",
    "        set1.remove(remove_num)\n",
    "print(sum(set1))"
   ]
  },
  {
   "cell_type": "markdown",
   "metadata": {},
   "source": [
    "## Find a String"
   ]
  },
  {
   "cell_type": "code",
   "execution_count": null,
   "metadata": {},
   "outputs": [],
   "source": [
    "def count_substring(string, sub_string):\n",
    "    c=0\n",
    "    for i in range(len(string)):\n",
    "        if string[i:].startswith(sub_string):\n",
    "            c +=1\n",
    "    return c\n",
    " \n",
    "if __name__ == '__main__':\n",
    "    string = input().strip()\n",
    "    sub_string = input().strip()\n",
    "    \n",
    "    count = count_substring(string, sub_string)\n",
    "    print(count)"
   ]
  },
  {
   "cell_type": "markdown",
   "metadata": {},
   "source": [
    "## Introduction to Sets"
   ]
  },
  {
   "cell_type": "code",
   "execution_count": null,
   "metadata": {},
   "outputs": [],
   "source": [
    "def average(arr):\n",
    "    for i in arr:\n",
    "        if i not in a:\n",
    "            a.append(i)\n",
    "    x = float(sum(a)/len(a))\n",
    "    return x\n",
    "a = []\n",
    "if __name__ == '__main__':\n",
    "    n = int(input())\n",
    "    arr = list(map(int, input().split()))\n",
    "    result = average(arr)\n",
    "    print(result)"
   ]
  },
  {
   "cell_type": "markdown",
   "metadata": {},
   "source": [
    "### Set .symmetric_difference : Symmetric Difference can be changed to difference, union and intersection"
   ]
  },
  {
   "cell_type": "code",
   "execution_count": null,
   "metadata": {},
   "outputs": [],
   "source": [
    "n = int(input())\n",
    "e = list(map(int,input().split()))\n",
    "m = int(input())\n",
    "f = list(map(int,input().split()))\n",
    " \n",
    "a = set(e)\n",
    "b = set(f)\n",
    "c = 0\n",
    "res = a.symmetric_difference(b)\n",
    "for i in res:\n",
    "    c += 1\n",
    "print(c)"
   ]
  },
  {
   "cell_type": "markdown",
   "metadata": {},
   "source": [
    "## Div-mod"
   ]
  },
  {
   "cell_type": "code",
   "execution_count": null,
   "metadata": {},
   "outputs": [],
   "source": [
    "a = int(input())\n",
    "b = int(input())\n",
    "print(a//b)\n",
    "print(a%b)\n",
    "print(divmod(a,b))"
   ]
  },
  {
   "cell_type": "markdown",
   "metadata": {},
   "source": [
    "## Symmetric Difference"
   ]
  },
  {
   "cell_type": "code",
   "execution_count": null,
   "metadata": {},
   "outputs": [],
   "source": [
    "n = int(input())\n",
    "list1 = list(map(int,input().split()))\n",
    "n1 = int(input())\n",
    "list2 = list(map(int,input().split()))\n",
    "[print(i) for i in sorted(set(list1).difference(set(list2)).union(set(list2).difference(set(list1))))]"
   ]
  },
  {
   "cell_type": "markdown",
   "metadata": {},
   "source": [
    "## Collections.deque"
   ]
  },
  {
   "cell_type": "code",
   "execution_count": null,
   "metadata": {},
   "outputs": [],
   "source": [
    "from collections import deque\n",
    "n = int(input())\n",
    "d = deque()\n",
    "list_of_commands = []\n",
    "for i in range(n):\n",
    "    x = input()\n",
    "    list_of_commands.append(x)\n",
    "for command in list_of_commands:\n",
    "    print(command[:7])\n",
    "    if command[:7]==\"append\":\n",
    "        x = command.split()\n",
    "        d.append(int(x[1]))\n",
    "        print(d)\n",
    "    elif command[:7]==\"appendl\":\n",
    "        x = command.split()\n",
    "        d.appendleft(int(x[1]))\n",
    "        print(d)\n",
    "    elif command[:4]==\"pop\":\n",
    "        d.pop()\n",
    "        print(d)\n",
    "    else:\n",
    "        d.popleft()\n",
    "        print(d)"
   ]
  }
 ],
 "metadata": {
  "kernelspec": {
   "display_name": "Python 3",
   "language": "python",
   "name": "python3"
  },
  "language_info": {
   "codemirror_mode": {
    "name": "ipython",
    "version": 3
   },
   "file_extension": ".py",
   "mimetype": "text/x-python",
   "name": "python",
   "nbconvert_exporter": "python",
   "pygments_lexer": "ipython3",
   "version": "3.7.3"
  }
 },
 "nbformat": 4,
 "nbformat_minor": 2
}
