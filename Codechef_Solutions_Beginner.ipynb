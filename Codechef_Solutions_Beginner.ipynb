{
 "cells": [
  {
   "cell_type": "markdown",
   "metadata": {},
   "source": [
    "# Codechef Solutions Beginner"
   ]
  },
  {
   "cell_type": "markdown",
   "metadata": {},
   "source": [
    "## Add Two Numbers (FLOW001)"
   ]
  },
  {
   "cell_type": "code",
   "execution_count": null,
   "metadata": {},
   "outputs": [],
   "source": [
    "n = (int(input()))\n",
    "ans=[]\n",
    "for i in range(n):\n",
    "    a = list(map(int,input().split()))\n",
    "    c = sum(a)\n",
    "    ans.append(c)\n",
    "for i in ans:\n",
    "    print(i)"
   ]
  },
  {
   "cell_type": "markdown",
   "metadata": {},
   "source": [
    "## ATM (HS08TEST)"
   ]
  },
  {
   "cell_type": "code",
   "execution_count": null,
   "metadata": {},
   "outputs": [],
   "source": [
    "w,b = map(float,input().split())\n",
    "if w%5==0:\n",
    "    if (w+0.5)<=b:\n",
    "        b-=(w+0.5)\n",
    "print(b)"
   ]
  },
  {
   "cell_type": "markdown",
   "metadata": {},
   "source": [
    "## Enormous Input Test (INTEST)"
   ]
  },
  {
   "cell_type": "code",
   "execution_count": null,
   "metadata": {},
   "outputs": [],
   "source": [
    "n,d = list(map(int,input().split()))\n",
    "ans = 0\n",
    "for i in range(n):\n",
    "    x = int(input())\n",
    "    if (x%d==0):\n",
    "        ans+=1\n",
    "print(ans)"
   ]
  },
  {
   "cell_type": "markdown",
   "metadata": {},
   "source": [
    "## Number Mirror (START01)"
   ]
  },
  {
   "cell_type": "code",
   "execution_count": null,
   "metadata": {},
   "outputs": [],
   "source": [
    "# Simple input and displaying output of number"
   ]
  },
  {
   "cell_type": "markdown",
   "metadata": {},
   "source": [
    "## Sum of Digits (FLOW006)"
   ]
  },
  {
   "cell_type": "code",
   "execution_count": null,
   "metadata": {},
   "outputs": [],
   "source": [
    "n = int(input())\n",
    "an = []\n",
    "for i in range(n):\n",
    "    s = 0\n",
    "    a = list(input())\n",
    "    for i in a:\n",
    "        s += int(i)\n",
    "    an.append(s)\n",
    "for i in an:\n",
    "    print(i)"
   ]
  },
  {
   "cell_type": "markdown",
   "metadata": {},
   "source": [
    "## Small factorials (FCTRL2)"
   ]
  },
  {
   "cell_type": "code",
   "execution_count": null,
   "metadata": {},
   "outputs": [],
   "source": [
    "def fact(n):\n",
    "    s = 1\n",
    "    while n>=1:\n",
    "        s*=n\n",
    "        n-=1\n",
    "    return s\n",
    "a=[]\n",
    "n = int(input())\n",
    "for i in range(n):\n",
    "    x = int(input())\n",
    "    a.append(fact(x))\n",
    "for i in a:\n",
    "    print(i)"
   ]
  },
  {
   "cell_type": "markdown",
   "metadata": {},
   "source": [
    "## Find Remainder (FLOW002)"
   ]
  },
  {
   "cell_type": "code",
   "execution_count": null,
   "metadata": {},
   "outputs": [],
   "source": [
    "n = int(input())\n",
    "a = []\n",
    "for i in range(n):\n",
    "    x,y = map(int,input().split())\n",
    "    z = x%y\n",
    "    a.append(z)\n",
    "for i in a:\n",
    "    print(i)"
   ]
  },
  {
   "cell_type": "markdown",
   "metadata": {},
   "source": [
    "## Turbo Sort (TSORT)"
   ]
  },
  {
   "cell_type": "code",
   "execution_count": null,
   "metadata": {},
   "outputs": [],
   "source": [
    "n = int(input())\n",
    "a = []\n",
    "for i in range(n):\n",
    "    x = int(input())\n",
    "    a.append(x)\n",
    "a.sort()\n",
    "for i in a:\n",
    "    print(i)"
   ]
  },
  {
   "cell_type": "markdown",
   "metadata": {},
   "source": [
    "## First and Last Digit (FLOW004)"
   ]
  },
  {
   "cell_type": "code",
   "execution_count": null,
   "metadata": {},
   "outputs": [],
   "source": [
    "n = int(input())\n",
    "an = []\n",
    "for i in range(n):\n",
    "    s = 0\n",
    "    a = list(input())\n",
    "    s = int(a[0]) + int(a[-1])\n",
    "    an.append(s)\n",
    "for i in an:\n",
    "    print(i)"
   ]
  },
  {
   "cell_type": "markdown",
   "metadata": {},
   "source": [
    "## Lucky Four (LUCKFOUR)"
   ]
  },
  {
   "cell_type": "code",
   "execution_count": null,
   "metadata": {},
   "outputs": [],
   "source": [
    "n = int(input())\n",
    "for i in range(n):\n",
    "    n = list(input())\n",
    "    c=0\n",
    "    for j in range(len(n)):\n",
    "        if (int(n[j]))==4:\n",
    "            c+=1\n",
    "    print(c)"
   ]
  },
  {
   "cell_type": "markdown",
   "metadata": {},
   "source": [
    "## The Lead Game (TLG)"
   ]
  },
  {
   "cell_type": "code",
   "execution_count": null,
   "metadata": {},
   "outputs": [],
   "source": [
    "n = int(input())\n",
    "s1=0\n",
    "s2=0\n",
    "pl1 = []\n",
    "pl2 = []\n",
    "for i in range(n):\n",
    "    p1,p2 = map(int, input().split())\n",
    "    s1+=p1\n",
    "    s2+=p2\n",
    "    if (s1>s2):\n",
    "        pl1.append(s1-s2)\n",
    "        pl2.append(0)\n",
    "    if (s2>s1):\n",
    "        pl1.append(0)\n",
    "        pl2.append(s2-s1)\n",
    "pl1.sort(reverse=True)\n",
    "pl2.sort(reverse=True)\n",
    "if (pl1[0]>pl2[0]):\n",
    "    print('1 %d'%pl1[0])\n",
    "else:\n",
    "    print('2 %d'%pl2[0])"
   ]
  },
  {
   "cell_type": "markdown",
   "metadata": {},
   "source": [
    "## Reverse The Number (FLOW007)"
   ]
  },
  {
   "cell_type": "code",
   "execution_count": null,
   "metadata": {},
   "outputs": [],
   "source": [
    "n = int(input())\n",
    "y = []\n",
    "z = []\n",
    "for i in range(n):\n",
    "x = int(input())\n",
    "p = str(x)\n",
    "q = list(p)\n",
    "q.reverse()\n",
    "r = q\n",
    "y.append(r)\n",
    "\n",
    "for i in y:\n",
    "    z.append(''.join(i))\n",
    "\n",
    "for i in z:\n",
    "    o = int(i)\n",
    "    print(o)"
   ]
  },
  {
   "cell_type": "markdown",
   "metadata": {},
   "source": [
    "## Finding Square Roots (FSQRT)"
   ]
  },
  {
   "cell_type": "code",
   "execution_count": null,
   "metadata": {},
   "outputs": [],
   "source": [
    "import math as ma\n",
    "n = int(input())\n",
    "y = []\n",
    "for i in range(n):\n",
    "    x = int(input())\n",
    "    a = ma.sqrt(x)\n",
    "    b = int(a)\n",
    "    y.append(b)\n",
    "for i in y:\n",
    "    print(i)"
   ]
  },
  {
   "cell_type": "markdown",
   "metadata": {},
   "source": [
    "## Packaging Cupcakes (MUFFINS3)"
   ]
  },
  {
   "cell_type": "code",
   "execution_count": null,
   "metadata": {},
   "outputs": [],
   "source": [
    "m = int(input())\n",
    "for i in range(m):\n",
    "    n = int(input())\n",
    "    print((n//2)+1"
   ]
  },
  {
   "cell_type": "markdown",
   "metadata": {},
   "source": [
    "## Second Largest (FLOW017)"
   ]
  },
  {
   "cell_type": "code",
   "execution_count": null,
   "metadata": {},
   "outputs": [],
   "source": [
    "n = int(input())\n",
    "z = []\n",
    "for i in range(n):\n",
    "    a = list(map(int, input().split()))\n",
    "    a.sort()\n",
    "    b = a\n",
    "    z.append(b[1])\n",
    "for i in z:\n",
    "    print(i)"
   ]
  },
  {
   "cell_type": "markdown",
   "metadata": {},
   "source": [
    "## Ciel and Reciept"
   ]
  },
  {
   "cell_type": "code",
   "execution_count": null,
   "metadata": {},
   "outputs": [],
   "source": [
    "import math\n",
    "t = int(input())\n",
    "c = []\n",
    "for i in range(t):\n",
    "    p = int(input())\n",
    "    count = 0\n",
    "    i = 11\n",
    "    while p > 0:\n",
    "        while p >= math.pow(2,i):\n",
    "            count += 1\n",
    "            p = p - math.pow(2, i)\n",
    "        i -= 1\n",
    "    c.append(count)\n",
    "for i in c: print(i)"
   ]
  },
  {
   "cell_type": "markdown",
   "metadata": {},
   "source": [
    "## Small Factorial (FLOW018)"
   ]
  },
  {
   "cell_type": "code",
   "execution_count": null,
   "metadata": {},
   "outputs": [],
   "source": [
    "def fact(n):\n",
    "    facto = 1\n",
    "    while n>0:\n",
    "        facto *= n\n",
    "        n -= 1\n",
    "    return facto\n",
    "n = int(input())\n",
    "for i in range(n):\n",
    "    x = int(input())\n",
    "    print(fact(x))"
   ]
  },
  {
   "cell_type": "markdown",
   "metadata": {},
   "source": [
    "## Chef and Remissness (REMISS)"
   ]
  },
  {
   "cell_type": "code",
   "execution_count": null,
   "metadata": {},
   "outputs": [],
   "source": [
    "n = int(input())\n",
    "for i in range(n):\n",
    "    x,y = map(int,input().split())\n",
    "    print(max(x,y),(x+y))"
   ]
  },
  {
   "cell_type": "markdown",
   "metadata": {},
   "source": [
    "## Servant (FLOW008)"
   ]
  },
  {
   "cell_type": "code",
   "execution_count": null,
   "metadata": {},
   "outputs": [],
   "source": [
    "n = int(input())\n",
    "for i in range(n):\n",
    "    x = int(input())\n",
    "    if x<10:\n",
    "        print(\"What an obedient servant you are!\")\n",
    "    else:\n",
    "        print(-1)"
   ]
  },
  {
   "cell_type": "markdown",
   "metadata": {},
   "source": [
    "## Chef And Operators"
   ]
  },
  {
   "cell_type": "code",
   "execution_count": null,
   "metadata": {},
   "outputs": [],
   "source": [
    "n = int(input())\n",
    "for i in range(n):\n",
    "    x,y = map(int, input().split())\n",
    "    if x>y:\n",
    "        print(\">\")\n",
    "    elif x<y:\n",
    "        print(\"<\")\n",
    "    else:\n",
    "        print(\"=\")"
   ]
  },
  {
   "cell_type": "markdown",
   "metadata": {},
   "source": [
    "## Valid Traingles"
   ]
  },
  {
   "cell_type": "code",
   "execution_count": null,
   "metadata": {},
   "outputs": [],
   "source": [
    "n = int(input())\n",
    "for i in range(n):\n",
    "    x,y,z = map(int, input().split())\n",
    "    if (x+y+z)==180:\n",
    "        print(\"YES\")\n",
    "    else:\n",
    "        print(\"NO\")"
   ]
  },
  {
   "cell_type": "markdown",
   "metadata": {},
   "source": [
    "## Smallest Number of Notes (FLOW005)"
   ]
  },
  {
   "cell_type": "code",
   "execution_count": null,
   "metadata": {},
   "outputs": [],
   "source": [
    "def convert(num):\n",
    "    notes = [100,50,10,5,2,1]\n",
    "    count = 0\n",
    "    for i in notes:\n",
    "        x = num//i\n",
    "        count+=x\n",
    "        num -= x*i\n",
    "    return count\n",
    "n = int(input())\n",
    "for i in range(n):\n",
    "    x = int(input())\n",
    "    print(convert(x))"
   ]
  },
  {
   "cell_type": "markdown",
   "metadata": {},
   "source": [
    "## Mahasena (AMR15A)"
   ]
  },
  {
   "cell_type": "code",
   "execution_count": null,
   "metadata": {},
   "outputs": [],
   "source": [
    "n = int(input())\n",
    "weapons = list(map(int,input().split()))\n",
    "ce = 0\n",
    "co = 0\n",
    "for now in weapons:\n",
    "    if now%2==0:\n",
    "        ce+=1\n",
    "    else:\n",
    "        co+=1\n",
    "if ce>co:\n",
    "    print(\"READY FOR BATTLE\")\n",
    "else:\n",
    "    print(\"NOT READY\")"
   ]
  },
  {
   "cell_type": "markdown",
   "metadata": {},
   "source": [
    "## The Block Game (PALL01)"
   ]
  },
  {
   "cell_type": "code",
   "execution_count": null,
   "metadata": {},
   "outputs": [],
   "source": [
    "n = int(input())\n",
    "for i in range(n):\n",
    "    x = str(input())\n",
    "    y = x[::-1]\n",
    "    if x==y:\n",
    "        print('wins')\n",
    "    else:\n",
    "        print('losses')"
   ]
  },
  {
   "cell_type": "markdown",
   "metadata": {},
   "source": [
    "## Primality Test (PRB01)"
   ]
  },
  {
   "cell_type": "code",
   "execution_count": null,
   "metadata": {},
   "outputs": [],
   "source": [
    "def is_prime(num):\n",
    "    count = 0\n",
    "    for i in range(2,num):\n",
    "        if num%i==0:\n",
    "            count+=1\n",
    "    if count==0:\n",
    "        return \"yes\"\n",
    "    else:\n",
    "        return \"no\"\n",
    "n = int(input())\n",
    "for i in range(n):\n",
    "    x = int(input())\n",
    "    print(is_prime(x))"
   ]
  },
  {
   "cell_type": "markdown",
   "metadata": {},
   "source": [
    "## ID and Ship (FLOW010)"
   ]
  },
  {
   "cell_type": "code",
   "execution_count": null,
   "metadata": {},
   "outputs": [],
   "source": [
    "n = int(input())\n",
    "for i in range(n):\n",
    "    x = input()\n",
    "    if x == \"B\" or x == \"b\":\n",
    "        print(\"BattleShip\")\n",
    "    elif x == \"C\" or x == \"c\":\n",
    "        print(\"Cruiser\")\n",
    "    elif x == \"D\" or x == \"d\":\n",
    "        print(\"Destroyer\")\n",
    "    else:\n",
    "        print(\"Frigate\")"
   ]
  },
  {
   "cell_type": "markdown",
   "metadata": {},
   "source": [
    "# Decrement OR Increment"
   ]
  },
  {
   "cell_type": "code",
   "execution_count": null,
   "metadata": {},
   "outputs": [],
   "source": [
    "n = int(input())\n",
    "if n%4==0:\n",
    "    print(n+1)\n",
    "else:\n",
    "    print(n-1)"
   ]
  },
  {
   "cell_type": "code",
   "execution_count": null,
   "metadata": {},
   "outputs": [],
   "source": []
  },
  {
   "cell_type": "code",
   "execution_count": null,
   "metadata": {},
   "outputs": [],
   "source": []
  },
  {
   "cell_type": "code",
   "execution_count": null,
   "metadata": {},
   "outputs": [],
   "source": []
  }
 ],
 "metadata": {
  "kernelspec": {
   "display_name": "Python 3",
   "language": "python",
   "name": "python3"
  },
  "language_info": {
   "codemirror_mode": {
    "name": "ipython",
    "version": 3
   },
   "file_extension": ".py",
   "mimetype": "text/x-python",
   "name": "python",
   "nbconvert_exporter": "python",
   "pygments_lexer": "ipython3",
   "version": "3.7.3"
  }
 },
 "nbformat": 4,
 "nbformat_minor": 2
}
